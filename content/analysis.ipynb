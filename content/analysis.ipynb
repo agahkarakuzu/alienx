{
 "cells": [
  {
   "cell_type": "code",
   "execution_count": null,
   "id": "1c322957-769c-4343-8550-666e14bb118e",
   "metadata": {
    "tags": []
   },
   "outputs": [],
   "source": [
    "import numpy as np\n",
    "import pandas as pd\n",
    "import plotly.express as px\n",
    "from scipy.stats import pearsonr, spearmanr, kendalltau\n",
    "import math\n",
    "import plotly.io as pio\n",
    "pio.renderers.default = \"plotly_mimetype\"\n",
    "\n",
    "# Seed for reproducibility\n",
    "np.random.seed(42)\n",
    "\n",
    "# Number of datapoints for each scatter plot\n",
    "n_points = 400\n",
    "\n",
    "# Function to generate synthetic data for brain volume vs. cognitive performance\n",
    "def generate_synthetic_data(volume_mean, volume_std, score_mean, score_std, correlation, n_points):\n",
    "    volume = np.random.normal(volume_mean, volume_std, n_points)\n",
    "    volume_jitter = np.random.normal(0, volume_std * 1.5, n_points)  # Add jitter to volume\n",
    "    noise = np.random.normal(0, score_std * 10.5, n_points)  # Increase noise for jitter in score\n",
    "    score = score_mean +  correlation * (volume - volume_mean) + noise\n",
    "    score[-58:] = [x * 5 for x in score[-58:]]\n",
    "    return volume + volume_jitter, score\n",
    "\n",
    "# Function to generate additional metrics\n",
    "def generate_additional_metrics(volume, score, volume_std, score_std, n_points):\n",
    "    # Hypothetical Brain Density: Based on volume with added noise\n",
    "    density = volume / (volume_std * np.random.uniform(0.8, 1.2, n_points))\n",
    "    noise = np.random.normal(0, score_std * 0.01, n_points)  # Increase noise for jitter in score\n",
    "    \n",
    "    # Hypothetical Neural Efficiency: Positively correlated with score but with noise\n",
    "    efficiency = score / (score_std * np.random.uniform(1.2, 11.7, n_points))\n",
    "    \n",
    "    return density, efficiency\n",
    "\n",
    "# Generate synthetic data for 10 scatter plots\n",
    "data_dict = {}\n",
    "\n",
    "# Scatter plot 7: Temporal Cortex Volume vs. Language Ability\n",
    "data_dict[\"Temporal_Language\"] = generate_synthetic_data(500, 400, 75, 9, 0.20, n_points)\n",
    "\n",
    "df_dict = {key: pd.DataFrame({'Volume': value[0], 'Score': value[1]}) for key, value in data_dict.items()}\n",
    "\n",
    "# Apply additional metrics to all regions\n",
    "for key, df in df_dict.items():\n",
    "    volume_std = np.std(df['Volume'])\n",
    "    score_std = np.std(df['Score'])\n",
    "    \n",
    "    # Generate new metrics for Brain Density and Neural Efficiency\n",
    "    density, efficiency = generate_additional_metrics(df['Volume'], df['Score'], volume_std, score_std, n_points)\n",
    "    \n",
    "    # Add the new metrics to the DataFrame\n",
    "    df['Density'] = density\n",
    "    df['Efficiency'] = efficiency\n",
    "\n",
    "def plot_correlation(df_dict, key, x_col, y_col, title_prefix, color='blue', marker_size=10, marker_opacity=0.7):\n",
    "    df = df_dict[key]\n",
    "    \n",
    "    # Calculate Spearman correlation\n",
    "    corr, _ = kendalltau(df[x_col], df[y_col])\n",
    "    \n",
    "    # Create scatter plot with customized marker colors, size, and opacity\n",
    "    fig = px.scatter(\n",
    "        df, \n",
    "        x=x_col, \n",
    "        y=y_col, \n",
    "        title=f'{title_prefix} (Kendall tau: {corr:.2f})', \n",
    "        trendline='ols',\n",
    "        color_discrete_sequence=[color],  # Custom marker color\n",
    "        template=\"ggplot2\",\n",
    "        marginal_y=\"violin\",\n",
    "    )\n",
    "    \n",
    "    # Update marker style\n",
    "    # fig.update_traces(marker=dict(size=marker_size, opacity=marker_opacity))\n",
    "    \n",
    "    # Update figure layout\n",
    "    fig.update_layout(height=600)\n",
    "    \n",
    "    return fig\n"
   ]
  },
  {
   "cell_type": "code",
   "execution_count": null,
   "id": "0dc1aeae-9824-4f8e-8b52-a81b4dd66e67",
   "metadata": {
    "tags": []
   },
   "outputs": [],
   "source": [
    "#| label: fig1cell \n",
    "\n",
    "fig1 = plot_correlation(df_dict, \"Temporal_Language\", 'Volume', 'Score', 'Temporal', color='black', marker_size=10, marker_opacity=0.7)\n",
    "fig1.show()"
   ]
  },
  {
   "cell_type": "code",
   "execution_count": null,
   "id": "625dffd1-f9d5-43f1-abcb-2356485d8d90",
   "metadata": {
    "tags": []
   },
   "outputs": [],
   "source": [
    "#| label: fig2cell\n",
    "\n",
    "fig2 = plot_correlation(df_dict, \"Temporal_Language\", 'Density', 'Score', 'Temporal', color='pink', marker_size=10, marker_opacity=0.7)\n",
    "fig2.show()"
   ]
  },
  {
   "cell_type": "code",
   "execution_count": null,
   "id": "a44330e5-515f-4faa-858c-3d8e1cf51f0c",
   "metadata": {
    "tags": []
   },
   "outputs": [],
   "source": [
    "#| label: fig3cell\n",
    "\n",
    "fig2 = plot_correlation(df_dict, \"Temporal_Language\", 'Efficiency', 'Score', 'Amygdala', color=\"orange\", marker_size=10, marker_opacity=0.7)\n",
    "fig2.show()\n"
   ]
  },
  {
   "cell_type": "code",
   "execution_count": null,
   "id": "58c9dd78-da77-4769-9074-c8c6c9bf6855",
   "metadata": {},
   "outputs": [],
   "source": []
  }
 ],
 "metadata": {
  "kernelspec": {
   "display_name": "Python 3 (ipykernel)",
   "language": "python",
   "name": "python3"
  },
  "language_info": {
   "codemirror_mode": {
    "name": "ipython",
    "version": 3
   },
   "file_extension": ".py",
   "mimetype": "text/x-python",
   "name": "python",
   "nbconvert_exporter": "python",
   "pygments_lexer": "ipython3",
   "version": "3.10.4"
  }
 },
 "nbformat": 4,
 "nbformat_minor": 5
}
